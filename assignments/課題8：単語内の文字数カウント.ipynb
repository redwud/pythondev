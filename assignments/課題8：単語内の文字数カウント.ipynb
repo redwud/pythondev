{
 "cells": [
  {
   "cell_type": "code",
   "execution_count": null,
   "id": "38cd1599",
   "metadata": {},
   "outputs": [
    {
     "name": "stdout",
     "output_type": "stream",
     "text": [
      "['bear', 'cat', 'dog', 'giraffe', 'horse', 'kangaroo']\n",
      "aが5個ありました\n",
      "bが1個ありました\n",
      "cが1個ありました\n",
      "dが1個ありました\n",
      "eが3個ありました\n",
      "fが2個ありました\n",
      "gが3個ありました\n",
      "hが1個ありました\n",
      "iが1個ありました\n",
      "kが1個ありました\n",
      "nが1個ありました\n",
      "oが4個ありました\n",
      "rが4個ありました\n",
      "sが1個ありました\n",
      "tが1個ありました\n"
     ]
    }
   ],
   "source": [
    "words = []\n",
    "alphabet = dict.fromkeys( [chr(l) for l in range(97, 97+26)], 0)\n",
    "new_word = \"something\"\n",
    "\n",
    "while True:\n",
    "    new_word = input(\"英単語を入力してください：\")\n",
    "    if new_word == \"\":\n",
    "        break\n",
    "    new_word = new_word.lower()\n",
    "    for ch in new_word:\n",
    "        if alphabet.get(ch) != None:\n",
    "            alphabet[ch] += 1\n",
    "    words.append(new_word)\n",
    "\n",
    "print(sorted(words))\n",
    "\n",
    "for letter, count in alphabet.items():\n",
    "    if count != 0:\n",
    "        print( f\"{letter}が{count}個ありました\" )\n"
   ]
  }
 ],
 "metadata": {
  "kernelspec": {
   "display_name": ".venv",
   "language": "python",
   "name": "python3"
  },
  "language_info": {
   "codemirror_mode": {
    "name": "ipython",
    "version": 3
   },
   "file_extension": ".py",
   "mimetype": "text/x-python",
   "name": "python",
   "nbconvert_exporter": "python",
   "pygments_lexer": "ipython3",
   "version": "3.12.7"
  }
 },
 "nbformat": 4,
 "nbformat_minor": 5
}
