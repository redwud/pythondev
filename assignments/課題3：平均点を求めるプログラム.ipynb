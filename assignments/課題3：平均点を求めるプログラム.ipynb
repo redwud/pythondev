{
 "cells": [
  {
   "cell_type": "code",
   "execution_count": 4,
   "id": "1c1f4875",
   "metadata": {},
   "outputs": [
    {
     "name": "stdout",
     "output_type": "stream",
     "text": [
      "3人のテストの平均点は100.0点です\n"
     ]
    }
   ],
   "source": [
    "score = 0\n",
    "total_score = 0\n",
    "persons = 0\n",
    "\n",
    "while True:\n",
    "    score = int(input(\"点数を入力してください：\"))\n",
    "    if score == -1:\n",
    "        break\n",
    "    total_score += score\n",
    "    persons +=1\n",
    "\n",
    "average_score = round(total_score / persons, 2)\n",
    "print(f\"{persons}人のテストの平均点は{average_score}点です\")"
   ]
  }
 ],
 "metadata": {
  "kernelspec": {
   "display_name": ".venv",
   "language": "python",
   "name": "python3"
  },
  "language_info": {
   "codemirror_mode": {
    "name": "ipython",
    "version": 3
   },
   "file_extension": ".py",
   "mimetype": "text/x-python",
   "name": "python",
   "nbconvert_exporter": "python",
   "pygments_lexer": "ipython3",
   "version": "3.12.7"
  }
 },
 "nbformat": 4,
 "nbformat_minor": 5
}
