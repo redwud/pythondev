{
 "cells": [
  {
   "cell_type": "code",
   "execution_count": 18,
   "id": "0409ad7e",
   "metadata": {},
   "outputs": [],
   "source": [
    "no_tax_price = float(input(\"税抜価格を入力してください：\"))\n",
    "with_tax_price = int(round(no_tax_price * 1.1))"
   ]
  },
  {
   "cell_type": "code",
   "execution_count": 19,
   "id": "c2651412",
   "metadata": {},
   "outputs": [
    {
     "name": "stdout",
     "output_type": "stream",
     "text": [
      "送料は無料です\n"
     ]
    }
   ],
   "source": [
    "if with_tax_price >= 2000:\n",
    "    print(\"送料は無料です\")\n",
    "else:\n",
    "    print(\"送料として350円かかります\")\n",
    "    with_tax_price += 350"
   ]
  },
  {
   "cell_type": "code",
   "execution_count": 20,
   "id": "76827a34",
   "metadata": {},
   "outputs": [
    {
     "name": "stdout",
     "output_type": "stream",
     "text": [
      "送料込みの価格は2000円です。\n"
     ]
    }
   ],
   "source": [
    "print(f\"送料込みの価格は{with_tax_price}円です。\")"
   ]
  }
 ],
 "metadata": {
  "kernelspec": {
   "display_name": ".venv",
   "language": "python",
   "name": "python3"
  },
  "language_info": {
   "codemirror_mode": {
    "name": "ipython",
    "version": 3
   },
   "file_extension": ".py",
   "mimetype": "text/x-python",
   "name": "python",
   "nbconvert_exporter": "python",
   "pygments_lexer": "ipython3",
   "version": "3.12.7"
  }
 },
 "nbformat": 4,
 "nbformat_minor": 5
}
