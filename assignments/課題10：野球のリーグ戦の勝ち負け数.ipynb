{
 "cells": [
  {
   "cell_type": "code",
   "execution_count": 32,
   "id": "e149b92d",
   "metadata": {},
   "outputs": [],
   "source": [
    "class Baseball_Team:\n",
    "    def __init__( self, name, win, lose, draw ):\n",
    "        self.name = name\n",
    "        self.win  = win\n",
    "        self.lose = lose\n",
    "        self.draw = draw\n",
    "\n",
    "    def calc_win_rate( self ):\n",
    "        return round( self.win / (self.win + self.lose), 3 )\n",
    "\n",
    "    def show_team_result( self ):\n",
    "        print(f\"{self.name:16}{self.win}\\t{self.lose}\\t{self.draw}\\t{self.calc_win_rate():.3f}\")"
   ]
  },
  {
   "cell_type": "code",
   "execution_count": 33,
   "id": "f7484034",
   "metadata": {},
   "outputs": [
    {
     "name": "stdout",
     "output_type": "stream",
     "text": [
      "team            win\tlose\tdraw\trate\n",
      "Archers         77\t64\t2\t0.546\n",
      "Meteors         71\t69\t3\t0.507\n",
      "Cheetahs        69\t68\t6\t0.504\n",
      "Sharks          70\t70\t3\t0.500\n",
      "Pythons         68\t73\t2\t0.482\n",
      "Owls            59\t82\t2\t0.418\n"
     ]
    }
   ],
   "source": [
    "print(f\"{'team':16}win\\tlose\\tdraw\\trate\")\n",
    "Baseball_Team(\"Archers\", 77, 64, 2).show_team_result()\n",
    "Baseball_Team(\"Meteors\", 71, 69, 3).show_team_result()\n",
    "Baseball_Team(\"Cheetahs\", 69, 68, 6).show_team_result()\n",
    "Baseball_Team(\"Sharks\", 70, 70, 3).show_team_result()\n",
    "Baseball_Team(\"Pythons\", 68, 73, 2).show_team_result()\n",
    "Baseball_Team(\"Owls\", 59, 82, 2).show_team_result()"
   ]
  }
 ],
 "metadata": {
  "kernelspec": {
   "display_name": ".venv",
   "language": "python",
   "name": "python3"
  },
  "language_info": {
   "codemirror_mode": {
    "name": "ipython",
    "version": 3
   },
   "file_extension": ".py",
   "mimetype": "text/x-python",
   "name": "python",
   "nbconvert_exporter": "python",
   "pygments_lexer": "ipython3",
   "version": "3.12.7"
  }
 },
 "nbformat": 4,
 "nbformat_minor": 5
}
